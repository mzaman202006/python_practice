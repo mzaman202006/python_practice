{
  "nbformat": 4,
  "nbformat_minor": 0,
  "metadata": {
    "colab": {
      "name": "Practice_CICD.ipynb",
      "provenance": [],
      "authorship_tag": "ABX9TyNHeGPTIKECqAGt8GiHI/RH",
      "include_colab_link": true
    },
    "kernelspec": {
      "name": "python3",
      "display_name": "Python 3"
    },
    "language_info": {
      "name": "python"
    }
  },
  "cells": [
    {
      "cell_type": "markdown",
      "metadata": {
        "id": "view-in-github",
        "colab_type": "text"
      },
      "source": [
        "<a href=\"https://colab.research.google.com/github/mzaman202006/python_practice/blob/main/Practice_CICD.ipynb\" target=\"_parent\"><img src=\"https://colab.research.google.com/assets/colab-badge.svg\" alt=\"Open In Colab\"/></a>"
      ]
    },
    {
      "cell_type": "code",
      "execution_count": 3,
      "metadata": {
        "colab": {
          "base_uri": "https://localhost:8080/"
        },
        "id": "hbnvnl-ZRmjc",
        "outputId": "b30bc65a-ba09-4cc6-8d94-fd9b5cf08145"
      },
      "outputs": [
        {
          "output_type": "stream",
          "name": "stdout",
          "text": [
            "Hello2\n"
          ]
        }
      ],
      "source": [
        "print(\"Hello2\")"
      ]
    }
  ]
}