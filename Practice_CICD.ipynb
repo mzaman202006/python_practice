{
  "cells": [
    {
      "cell_type": "markdown",
      "metadata": {
        "id": "view-in-github",
        "colab_type": "text"
      },
      "source": [
        "<a href=\"https://colab.research.google.com/github/mzaman202006/python_practice/blob/main/Practice_CICD.ipynb\" target=\"_parent\"><img src=\"https://colab.research.google.com/assets/colab-badge.svg\" alt=\"Open In Colab\"/></a>"
      ]
    },
    {
      "cell_type": "code",
      "execution_count": 6,
      "metadata": {
        "colab": {
          "base_uri": "https://localhost:8080/"
        },
        "id": "hbnvnl-ZRmjc",
        "outputId": "f6bc8ef0-1583-4937-f401-69c7965ad18b"
      },
      "outputs": [
        {
          "output_type": "stream",
          "name": "stdout",
          "text": [
            "Hello 22\n"
          ]
        }
      ],
      "source": [
        "print(\"Hello 22\")"
      ]
    }
  ],
  "metadata": {
    "colab": {
      "name": "Practice_CICD.ipynb",
      "provenance": [],
      "authorship_tag": "ABX9TyOrZXo9Q1/7Hm8WmZBNDrPj",
      "include_colab_link": true
    },
    "kernelspec": {
      "display_name": "Python 3",
      "name": "python3"
    },
    "language_info": {
      "name": "python"
    }
  },
  "nbformat": 4,
  "nbformat_minor": 0
}